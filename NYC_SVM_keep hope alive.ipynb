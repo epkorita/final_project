{
 "cells": [
  {
   "cell_type": "code",
   "execution_count": 14,
   "metadata": {},
   "outputs": [],
   "source": [
    "import matplotlib.pyplot as plt\n",
    "from sklearn.neighbors import KNeighborsClassifier\n",
    "import pandas as pd\n",
    "import numpy as np\n",
    "import os"
   ]
  },
  {
   "cell_type": "code",
   "execution_count": 15,
   "metadata": {},
   "outputs": [
    {
     "data": {
      "text/html": [
       "<div>\n",
       "<style scoped>\n",
       "    .dataframe tbody tr th:only-of-type {\n",
       "        vertical-align: middle;\n",
       "    }\n",
       "\n",
       "    .dataframe tbody tr th {\n",
       "        vertical-align: top;\n",
       "    }\n",
       "\n",
       "    .dataframe thead th {\n",
       "        text-align: right;\n",
       "    }\n",
       "</style>\n",
       "<table border=\"1\" class=\"dataframe\">\n",
       "  <thead>\n",
       "    <tr style=\"text-align: right;\">\n",
       "      <th></th>\n",
       "      <th>LAT</th>\n",
       "      <th>LONG</th>\n",
       "      <th>Manhattan</th>\n",
       "      <th>Brooklyn</th>\n",
       "      <th>Bronx</th>\n",
       "      <th>Queens</th>\n",
       "      <th>StatenIsland</th>\n",
       "      <th>DrivInattDistr</th>\n",
       "      <th>FailYield</th>\n",
       "      <th>FollowClose</th>\n",
       "      <th>...</th>\n",
       "      <th>Wednesday</th>\n",
       "      <th>Thursday</th>\n",
       "      <th>Friday</th>\n",
       "      <th>Saturday</th>\n",
       "      <th>Sunday</th>\n",
       "      <th>Fri_or_SatNight</th>\n",
       "      <th>Spring</th>\n",
       "      <th>Summer</th>\n",
       "      <th>Fall</th>\n",
       "      <th>Winter</th>\n",
       "    </tr>\n",
       "  </thead>\n",
       "  <tbody>\n",
       "    <tr>\n",
       "      <th>0</th>\n",
       "      <td>40.781690</td>\n",
       "      <td>-73.94897</td>\n",
       "      <td>1</td>\n",
       "      <td>0</td>\n",
       "      <td>0</td>\n",
       "      <td>0</td>\n",
       "      <td>0</td>\n",
       "      <td>0</td>\n",
       "      <td>0</td>\n",
       "      <td>1</td>\n",
       "      <td>...</td>\n",
       "      <td>0</td>\n",
       "      <td>0</td>\n",
       "      <td>1</td>\n",
       "      <td>0</td>\n",
       "      <td>0</td>\n",
       "      <td>0</td>\n",
       "      <td>0</td>\n",
       "      <td>0</td>\n",
       "      <td>1</td>\n",
       "      <td>0</td>\n",
       "    </tr>\n",
       "    <tr>\n",
       "      <th>1</th>\n",
       "      <td>40.620872</td>\n",
       "      <td>-74.00221</td>\n",
       "      <td>0</td>\n",
       "      <td>1</td>\n",
       "      <td>0</td>\n",
       "      <td>0</td>\n",
       "      <td>0</td>\n",
       "      <td>0</td>\n",
       "      <td>1</td>\n",
       "      <td>0</td>\n",
       "      <td>...</td>\n",
       "      <td>0</td>\n",
       "      <td>1</td>\n",
       "      <td>0</td>\n",
       "      <td>0</td>\n",
       "      <td>0</td>\n",
       "      <td>0</td>\n",
       "      <td>0</td>\n",
       "      <td>0</td>\n",
       "      <td>1</td>\n",
       "      <td>0</td>\n",
       "    </tr>\n",
       "    <tr>\n",
       "      <th>2</th>\n",
       "      <td>40.749890</td>\n",
       "      <td>-73.86259</td>\n",
       "      <td>0</td>\n",
       "      <td>0</td>\n",
       "      <td>0</td>\n",
       "      <td>1</td>\n",
       "      <td>0</td>\n",
       "      <td>0</td>\n",
       "      <td>0</td>\n",
       "      <td>0</td>\n",
       "      <td>...</td>\n",
       "      <td>0</td>\n",
       "      <td>1</td>\n",
       "      <td>0</td>\n",
       "      <td>0</td>\n",
       "      <td>0</td>\n",
       "      <td>0</td>\n",
       "      <td>0</td>\n",
       "      <td>0</td>\n",
       "      <td>1</td>\n",
       "      <td>0</td>\n",
       "    </tr>\n",
       "    <tr>\n",
       "      <th>3</th>\n",
       "      <td>40.716140</td>\n",
       "      <td>-73.83357</td>\n",
       "      <td>0</td>\n",
       "      <td>0</td>\n",
       "      <td>0</td>\n",
       "      <td>1</td>\n",
       "      <td>0</td>\n",
       "      <td>0</td>\n",
       "      <td>0</td>\n",
       "      <td>0</td>\n",
       "      <td>...</td>\n",
       "      <td>0</td>\n",
       "      <td>1</td>\n",
       "      <td>0</td>\n",
       "      <td>0</td>\n",
       "      <td>0</td>\n",
       "      <td>0</td>\n",
       "      <td>0</td>\n",
       "      <td>0</td>\n",
       "      <td>1</td>\n",
       "      <td>0</td>\n",
       "    </tr>\n",
       "    <tr>\n",
       "      <th>4</th>\n",
       "      <td>40.610115</td>\n",
       "      <td>-73.98489</td>\n",
       "      <td>0</td>\n",
       "      <td>1</td>\n",
       "      <td>0</td>\n",
       "      <td>0</td>\n",
       "      <td>0</td>\n",
       "      <td>0</td>\n",
       "      <td>0</td>\n",
       "      <td>0</td>\n",
       "      <td>...</td>\n",
       "      <td>0</td>\n",
       "      <td>1</td>\n",
       "      <td>0</td>\n",
       "      <td>0</td>\n",
       "      <td>0</td>\n",
       "      <td>0</td>\n",
       "      <td>0</td>\n",
       "      <td>0</td>\n",
       "      <td>1</td>\n",
       "      <td>0</td>\n",
       "    </tr>\n",
       "  </tbody>\n",
       "</table>\n",
       "<p>5 rows × 40 columns</p>\n",
       "</div>"
      ],
      "text/plain": [
       "         LAT      LONG  Manhattan  Brooklyn  Bronx  Queens  StatenIsland  \\\n",
       "0  40.781690 -73.94897          1         0      0       0             0   \n",
       "1  40.620872 -74.00221          0         1      0       0             0   \n",
       "2  40.749890 -73.86259          0         0      0       1             0   \n",
       "3  40.716140 -73.83357          0         0      0       1             0   \n",
       "4  40.610115 -73.98489          0         1      0       0             0   \n",
       "\n",
       "   DrivInattDistr  FailYield  FollowClose   ...    Wednesday  Thursday  \\\n",
       "0               0          0            1   ...            0         0   \n",
       "1               0          1            0   ...            0         1   \n",
       "2               0          0            0   ...            0         1   \n",
       "3               0          0            0   ...            0         1   \n",
       "4               0          0            0   ...            0         1   \n",
       "\n",
       "   Friday  Saturday  Sunday  Fri_or_SatNight  Spring  Summer  Fall  Winter  \n",
       "0       1         0       0                0       0       0     1       0  \n",
       "1       0         0       0                0       0       0     1       0  \n",
       "2       0         0       0                0       0       0     1       0  \n",
       "3       0         0       0                0       0       0     1       0  \n",
       "4       0         0       0                0       0       0     1       0  \n",
       "\n",
       "[5 rows x 40 columns]"
      ]
     },
     "execution_count": 15,
     "metadata": {},
     "output_type": "execute_result"
    }
   ],
   "source": [
    "#NYC_df = pd.read_csv(os.path.join(\"..\", \"Resources\", \"NYC_df_12_30_18.csv\"))\n",
    "NYC_df = pd.read_csv(\"NYC_df_1_5_19.csv\")\n",
    "NYC_df.head()"
   ]
  },
  {
   "cell_type": "code",
   "execution_count": 16,
   "metadata": {},
   "outputs": [
    {
     "data": {
      "text/plain": [
       "LAT                       51360\n",
       "LONG                      51360\n",
       "Manhattan                 53356\n",
       "Brooklyn                  53356\n",
       "Bronx                     53356\n",
       "Queens                    53356\n",
       "StatenIsland              53356\n",
       "DrivInattDistr            53356\n",
       "FailYield                 53356\n",
       "FollowClose               53356\n",
       "BackUnsafe                53356\n",
       "UnsafeLaneChange          53356\n",
       "PassLaneUseImprop         53356\n",
       "TrafControlDisregard      53356\n",
       "UnsafeSpeed               53356\n",
       "TurnImprop                53356\n",
       "AggrDrive                 53356\n",
       "FailKeepRight             53356\n",
       "UnsafeDriving             53356\n",
       "RecklessDriving           53356\n",
       "collis_sedan_sedan        53356\n",
       "collis_sedan_SWorSUV      53356\n",
       "collis_SWorSUV_SWorSUV    53356\n",
       "Motorist_Inj_Dead         53356\n",
       "MorningRush               53356\n",
       "Midday                    53356\n",
       "EveningRush               53356\n",
       "Overnight                 53356\n",
       "Monday                    53356\n",
       "Tuesday                   53356\n",
       "Wednesday                 53356\n",
       "Thursday                  53356\n",
       "Friday                    53356\n",
       "Saturday                  53356\n",
       "Sunday                    53356\n",
       "Fri_or_SatNight           53356\n",
       "Spring                    53356\n",
       "Summer                    53356\n",
       "Fall                      53356\n",
       "Winter                    53356\n",
       "dtype: int64"
      ]
     },
     "execution_count": 16,
     "metadata": {},
     "output_type": "execute_result"
    }
   ],
   "source": [
    "NYC_df.count()"
   ]
  },
  {
   "cell_type": "code",
   "execution_count": 18,
   "metadata": {},
   "outputs": [],
   "source": [
    "NYC_df=NYC_df.drop(columns=['LAT','LONG','Brooklyn','Bronx','Queens','StatenIsland','DrivInattDistr','UnsafeLaneChange','PassLaneUseImprop','TurnImprop','collis_sedan_sedan','MorningRush','EveningRush','Midday','Overnight','Friday','Saturday','Sunday','Monday','Tuesday','Wednesday','Winter','Spring','Fall'])"
   ]
  },
  {
   "cell_type": "code",
   "execution_count": 23,
   "metadata": {},
   "outputs": [
    {
     "data": {
      "text/plain": [
       "Manhattan                 53356\n",
       "FailYield                 53356\n",
       "UnsafeDriving             53356\n",
       "RecklessDriving           53356\n",
       "collis_sedan_SWorSUV      53356\n",
       "collis_SWorSUV_SWorSUV    53356\n",
       "Motorist_Inj_Dead         53356\n",
       "Thursday                  53356\n",
       "Fri_or_SatNight           53356\n",
       "Summer                    53356\n",
       "dtype: int64"
      ]
     },
     "execution_count": 23,
     "metadata": {},
     "output_type": "execute_result"
    }
   ],
   "source": [
    "NYC_df.count()"
   ]
  },
  {
   "cell_type": "code",
   "execution_count": 24,
   "metadata": {},
   "outputs": [],
   "source": [
    "#NYC_df=NYC_df.drop(columns=['BackUnsafe','FollowClose','TrafControlDisregard','UnsafeSpeed','AggrDrive','FailKeepRight','UnsafeSpeed','FailYield','Thursday'])\n",
    "NYC_df=NYC_df.drop(columns=['FailYield','Thursday'])"
   ]
  },
  {
   "cell_type": "code",
   "execution_count": 56,
   "metadata": {},
   "outputs": [],
   "source": [
    "NYC_df['Outome']=NYC_df['Motorist_Inj_Dead']"
   ]
  },
  {
   "cell_type": "code",
   "execution_count": 58,
   "metadata": {},
   "outputs": [],
   "source": [
    "NYC_df=NYC_df.drop(columns=['Motorist_Inj_Dead'])"
   ]
  },
  {
   "cell_type": "code",
   "execution_count": 59,
   "metadata": {},
   "outputs": [
    {
     "data": {
      "text/plain": [
       "Manhattan                 int64\n",
       "UnsafeDriving             int64\n",
       "RecklessDriving           int64\n",
       "collis_sedan_SWorSUV      int64\n",
       "collis_SWorSUV_SWorSUV    int64\n",
       "Fri_or_SatNight           int64\n",
       "Outome                    int64\n",
       "dtype: object"
      ]
     },
     "execution_count": 59,
     "metadata": {},
     "output_type": "execute_result"
    }
   ],
   "source": [
    "NYC_df.dtypes"
   ]
  },
  {
   "cell_type": "code",
   "execution_count": null,
   "metadata": {},
   "outputs": [],
   "source": []
  },
  {
   "cell_type": "code",
   "execution_count": 62,
   "metadata": {},
   "outputs": [],
   "source": [
    "X = NYC_df.iloc[:, :5].values\n",
    "Y = NYC_df.iloc[:, 6].values"
   ]
  },
  {
   "cell_type": "code",
   "execution_count": 64,
   "metadata": {},
   "outputs": [
    {
     "data": {
      "text/plain": [
       "array([[1, 1, 0, 0, 0],\n",
       "       [0, 1, 0, 0, 0],\n",
       "       [0, 1, 0, 1, 0],\n",
       "       ...,\n",
       "       [0, 0, 0, 0, 1],\n",
       "       [0, 0, 0, 0, 1],\n",
       "       [0, 1, 0, 0, 1]], dtype=int64)"
      ]
     },
     "execution_count": 64,
     "metadata": {},
     "output_type": "execute_result"
    }
   ],
   "source": [
    "#target = NYC_df[\"Motorist_Inj_Dead\"]\n",
    "#target_names = [\"No_harm\",\"Injured_or_dead\"]\n",
    "X\n"
   ]
  },
  {
   "cell_type": "code",
   "execution_count": 48,
   "metadata": {},
   "outputs": [
    {
     "data": {
      "text/html": [
       "<div>\n",
       "<style scoped>\n",
       "    .dataframe tbody tr th:only-of-type {\n",
       "        vertical-align: middle;\n",
       "    }\n",
       "\n",
       "    .dataframe tbody tr th {\n",
       "        vertical-align: top;\n",
       "    }\n",
       "\n",
       "    .dataframe thead th {\n",
       "        text-align: right;\n",
       "    }\n",
       "</style>\n",
       "<table border=\"1\" class=\"dataframe\">\n",
       "  <thead>\n",
       "    <tr style=\"text-align: right;\">\n",
       "      <th></th>\n",
       "      <th>Manhattan</th>\n",
       "      <th>UnsafeDriving</th>\n",
       "      <th>RecklessDriving</th>\n",
       "      <th>collis_sedan_SWorSUV</th>\n",
       "      <th>collis_SWorSUV_SWorSUV</th>\n",
       "      <th>Fri_or_SatNight</th>\n",
       "    </tr>\n",
       "  </thead>\n",
       "  <tbody>\n",
       "    <tr>\n",
       "      <th>0</th>\n",
       "      <td>1</td>\n",
       "      <td>1</td>\n",
       "      <td>0</td>\n",
       "      <td>0</td>\n",
       "      <td>0</td>\n",
       "      <td>0</td>\n",
       "    </tr>\n",
       "    <tr>\n",
       "      <th>1</th>\n",
       "      <td>0</td>\n",
       "      <td>1</td>\n",
       "      <td>0</td>\n",
       "      <td>0</td>\n",
       "      <td>0</td>\n",
       "      <td>0</td>\n",
       "    </tr>\n",
       "    <tr>\n",
       "      <th>2</th>\n",
       "      <td>0</td>\n",
       "      <td>1</td>\n",
       "      <td>0</td>\n",
       "      <td>1</td>\n",
       "      <td>0</td>\n",
       "      <td>0</td>\n",
       "    </tr>\n",
       "    <tr>\n",
       "      <th>3</th>\n",
       "      <td>0</td>\n",
       "      <td>0</td>\n",
       "      <td>1</td>\n",
       "      <td>0</td>\n",
       "      <td>0</td>\n",
       "      <td>0</td>\n",
       "    </tr>\n",
       "    <tr>\n",
       "      <th>4</th>\n",
       "      <td>0</td>\n",
       "      <td>1</td>\n",
       "      <td>0</td>\n",
       "      <td>1</td>\n",
       "      <td>0</td>\n",
       "      <td>0</td>\n",
       "    </tr>\n",
       "  </tbody>\n",
       "</table>\n",
       "</div>"
      ],
      "text/plain": [
       "   Manhattan  UnsafeDriving  RecklessDriving  collis_sedan_SWorSUV  \\\n",
       "0          1              1                0                     0   \n",
       "1          0              1                0                     0   \n",
       "2          0              1                0                     1   \n",
       "3          0              0                1                     0   \n",
       "4          0              1                0                     1   \n",
       "\n",
       "   collis_SWorSUV_SWorSUV  Fri_or_SatNight  \n",
       "0                       0                0  \n",
       "1                       0                0  \n",
       "2                       0                0  \n",
       "3                       0                0  \n",
       "4                       0                0  "
      ]
     },
     "execution_count": 48,
     "metadata": {},
     "output_type": "execute_result"
    }
   ],
   "source": [
    "NYC_df=NYC_df.drop(\"Summer\",axis=1)\n",
    "\n",
    "\n",
    "data = NYC_df.drop(\"Motorist_Inj_Dead\", axis=1)\n",
    "feature_names = data.columns\n",
    "data.head()"
   ]
  },
  {
   "cell_type": "code",
   "execution_count": 54,
   "metadata": {},
   "outputs": [
    {
     "data": {
      "text/plain": [
       "Index(['Manhattan', 'UnsafeDriving', 'RecklessDriving', 'collis_sedan_SWorSUV',\n",
       "       'collis_SWorSUV_SWorSUV', 'Fri_or_SatNight'],\n",
       "      dtype='object')"
      ]
     },
     "execution_count": 54,
     "metadata": {},
     "output_type": "execute_result"
    }
   ],
   "source": [
    "feature_names"
   ]
  },
  {
   "cell_type": "code",
   "execution_count": null,
   "metadata": {},
   "outputs": [],
   "source": []
  },
  {
   "cell_type": "code",
   "execution_count": 49,
   "metadata": {},
   "outputs": [],
   "source": [
    "from sklearn.linear_model import LinearRegression\n",
    "lr = LinearRegression(normalize=True)"
   ]
  },
  {
   "cell_type": "code",
   "execution_count": 70,
   "metadata": {},
   "outputs": [
    {
     "data": {
      "text/plain": [
       "LinearRegression(copy_X=True, fit_intercept=True, n_jobs=1, normalize=True)"
      ]
     },
     "execution_count": 70,
     "metadata": {},
     "output_type": "execute_result"
    }
   ],
   "source": [
    "lr.fit(X,Y)"
   ]
  },
  {
   "cell_type": "code",
   "execution_count": 71,
   "metadata": {},
   "outputs": [],
   "source": [
    "y_pred=lr.predict(X_test)"
   ]
  },
  {
   "cell_type": "code",
   "execution_count": 73,
   "metadata": {},
   "outputs": [
    {
     "data": {
      "text/plain": [
       "0.26767908681611136"
      ]
     },
     "execution_count": 73,
     "metadata": {},
     "output_type": "execute_result"
    }
   ],
   "source": [
    "max(y_pred)"
   ]
  },
  {
   "cell_type": "code",
   "execution_count": 75,
   "metadata": {},
   "outputs": [
    {
     "data": {
      "text/plain": [
       "0.024665461965381774"
      ]
     },
     "execution_count": 75,
     "metadata": {},
     "output_type": "execute_result"
    }
   ],
   "source": [
    "from sklearn.linear_model import LinearRegression\n",
    "from sklearn.metrics import r2_score\n",
    "r2_score(y_test, y_pred)"
   ]
  },
  {
   "cell_type": "code",
   "execution_count": 65,
   "metadata": {},
   "outputs": [],
   "source": [
    "from sklearn.model_selection import train_test_split\n",
    "X_train, X_test, y_train, y_test = train_test_split(X, Y, random_state=42,test_size=.1)"
   ]
  },
  {
   "cell_type": "code",
   "execution_count": 82,
   "metadata": {},
   "outputs": [
    {
     "data": {
      "text/plain": [
       "SVC(C=1.0, cache_size=200, class_weight='balanced', coef0=0.0,\n",
       "  decision_function_shape='ovr', degree=3, gamma='auto', kernel='linear',\n",
       "  max_iter=-1, probability=False, random_state=None, shrinking=True,\n",
       "  tol=0.001, verbose=False)"
      ]
     },
     "execution_count": 82,
     "metadata": {},
     "output_type": "execute_result"
    }
   ],
   "source": [
    "# Support vector machine linear classifier\n",
    "from sklearn.svm import SVC \n",
    "model = SVC(kernel='linear',class_weight='balanced')\n",
    "model.fit(X_train, y_train)"
   ]
  },
  {
   "cell_type": "code",
   "execution_count": 83,
   "metadata": {},
   "outputs": [
    {
     "name": "stdout",
     "output_type": "stream",
     "text": [
      "Test Acc: 0.281\n"
     ]
    }
   ],
   "source": [
    "# Model Accuracy\n",
    "print('Test Acc: %.3f' % model.score(X_test, y_test))"
   ]
  },
  {
   "cell_type": "code",
   "execution_count": 84,
   "metadata": {},
   "outputs": [
    {
     "name": "stdout",
     "output_type": "stream",
     "text": [
      "                 precision    recall  f1-score   support\n",
      "\n",
      "        No_harm       0.94      0.17      0.29      4577\n",
      "Injured_or_dead       0.16      0.93      0.27       759\n",
      "\n",
      "    avg / total       0.83      0.28      0.29      5336\n",
      "\n"
     ]
    }
   ],
   "source": [
    "# Calculate classification report\n",
    "from sklearn.metrics import classification_report\n",
    "predictions = model.predict(X_test)\n",
    "print(classification_report(y_test, predictions,\n",
    "                            target_names=target_names))"
   ]
  },
  {
   "cell_type": "code",
   "execution_count": null,
   "metadata": {},
   "outputs": [],
   "source": [
    "# def If_injured_or_dead(param,param2,param3):\n",
    "#     if model.predict([[param,param2,param3]])==0:\n",
    "#         print (\"Yes\")\n",
    "#     else:\n",
    "#         print (\"No\")"
   ]
  },
  {
   "cell_type": "code",
   "execution_count": null,
   "metadata": {},
   "outputs": [],
   "source": [
    "# If_injured_or_dead()"
   ]
  },
  {
   "cell_type": "code",
   "execution_count": 38,
   "metadata": {},
   "outputs": [
    {
     "data": {
      "text/html": [
       "<div>\n",
       "<style scoped>\n",
       "    .dataframe tbody tr th:only-of-type {\n",
       "        vertical-align: middle;\n",
       "    }\n",
       "\n",
       "    .dataframe tbody tr th {\n",
       "        vertical-align: top;\n",
       "    }\n",
       "\n",
       "    .dataframe thead th {\n",
       "        text-align: right;\n",
       "    }\n",
       "</style>\n",
       "<table border=\"1\" class=\"dataframe\">\n",
       "  <thead>\n",
       "    <tr style=\"text-align: right;\">\n",
       "      <th></th>\n",
       "      <th>Manhattan</th>\n",
       "      <th>UnsafeDriving</th>\n",
       "      <th>RecklessDriving</th>\n",
       "      <th>collis_sedan_SWorSUV</th>\n",
       "      <th>collis_SWorSUV_SWorSUV</th>\n",
       "      <th>Motorist_Inj_Dead</th>\n",
       "      <th>Fri_or_SatNight</th>\n",
       "      <th>Summer</th>\n",
       "    </tr>\n",
       "  </thead>\n",
       "  <tbody>\n",
       "    <tr>\n",
       "      <th>count</th>\n",
       "      <td>53356.000000</td>\n",
       "      <td>53356.000000</td>\n",
       "      <td>53356.000000</td>\n",
       "      <td>53356.000000</td>\n",
       "      <td>53356.000000</td>\n",
       "      <td>53356.000000</td>\n",
       "      <td>53356.000000</td>\n",
       "      <td>53356.000000</td>\n",
       "    </tr>\n",
       "    <tr>\n",
       "      <th>mean</th>\n",
       "      <td>0.153985</td>\n",
       "      <td>0.494040</td>\n",
       "      <td>0.099651</td>\n",
       "      <td>0.230546</td>\n",
       "      <td>0.595285</td>\n",
       "      <td>0.140153</td>\n",
       "      <td>0.064266</td>\n",
       "      <td>0.343635</td>\n",
       "    </tr>\n",
       "    <tr>\n",
       "      <th>std</th>\n",
       "      <td>0.360937</td>\n",
       "      <td>0.499969</td>\n",
       "      <td>0.299537</td>\n",
       "      <td>0.421186</td>\n",
       "      <td>0.490842</td>\n",
       "      <td>0.347149</td>\n",
       "      <td>0.245229</td>\n",
       "      <td>0.474926</td>\n",
       "    </tr>\n",
       "    <tr>\n",
       "      <th>min</th>\n",
       "      <td>0.000000</td>\n",
       "      <td>0.000000</td>\n",
       "      <td>0.000000</td>\n",
       "      <td>0.000000</td>\n",
       "      <td>0.000000</td>\n",
       "      <td>0.000000</td>\n",
       "      <td>0.000000</td>\n",
       "      <td>0.000000</td>\n",
       "    </tr>\n",
       "    <tr>\n",
       "      <th>25%</th>\n",
       "      <td>0.000000</td>\n",
       "      <td>0.000000</td>\n",
       "      <td>0.000000</td>\n",
       "      <td>0.000000</td>\n",
       "      <td>0.000000</td>\n",
       "      <td>0.000000</td>\n",
       "      <td>0.000000</td>\n",
       "      <td>0.000000</td>\n",
       "    </tr>\n",
       "    <tr>\n",
       "      <th>50%</th>\n",
       "      <td>0.000000</td>\n",
       "      <td>0.000000</td>\n",
       "      <td>0.000000</td>\n",
       "      <td>0.000000</td>\n",
       "      <td>1.000000</td>\n",
       "      <td>0.000000</td>\n",
       "      <td>0.000000</td>\n",
       "      <td>0.000000</td>\n",
       "    </tr>\n",
       "    <tr>\n",
       "      <th>75%</th>\n",
       "      <td>0.000000</td>\n",
       "      <td>1.000000</td>\n",
       "      <td>0.000000</td>\n",
       "      <td>0.000000</td>\n",
       "      <td>1.000000</td>\n",
       "      <td>0.000000</td>\n",
       "      <td>0.000000</td>\n",
       "      <td>1.000000</td>\n",
       "    </tr>\n",
       "    <tr>\n",
       "      <th>max</th>\n",
       "      <td>1.000000</td>\n",
       "      <td>1.000000</td>\n",
       "      <td>1.000000</td>\n",
       "      <td>1.000000</td>\n",
       "      <td>1.000000</td>\n",
       "      <td>1.000000</td>\n",
       "      <td>1.000000</td>\n",
       "      <td>1.000000</td>\n",
       "    </tr>\n",
       "  </tbody>\n",
       "</table>\n",
       "</div>"
      ],
      "text/plain": [
       "          Manhattan  UnsafeDriving  RecklessDriving  collis_sedan_SWorSUV  \\\n",
       "count  53356.000000   53356.000000     53356.000000          53356.000000   \n",
       "mean       0.153985       0.494040         0.099651              0.230546   \n",
       "std        0.360937       0.499969         0.299537              0.421186   \n",
       "min        0.000000       0.000000         0.000000              0.000000   \n",
       "25%        0.000000       0.000000         0.000000              0.000000   \n",
       "50%        0.000000       0.000000         0.000000              0.000000   \n",
       "75%        0.000000       1.000000         0.000000              0.000000   \n",
       "max        1.000000       1.000000         1.000000              1.000000   \n",
       "\n",
       "       collis_SWorSUV_SWorSUV  Motorist_Inj_Dead  Fri_or_SatNight  \\\n",
       "count            53356.000000       53356.000000     53356.000000   \n",
       "mean                 0.595285           0.140153         0.064266   \n",
       "std                  0.490842           0.347149         0.245229   \n",
       "min                  0.000000           0.000000         0.000000   \n",
       "25%                  0.000000           0.000000         0.000000   \n",
       "50%                  1.000000           0.000000         0.000000   \n",
       "75%                  1.000000           0.000000         0.000000   \n",
       "max                  1.000000           1.000000         1.000000   \n",
       "\n",
       "             Summer  \n",
       "count  53356.000000  \n",
       "mean       0.343635  \n",
       "std        0.474926  \n",
       "min        0.000000  \n",
       "25%        0.000000  \n",
       "50%        0.000000  \n",
       "75%        1.000000  \n",
       "max        1.000000  "
      ]
     },
     "execution_count": 38,
     "metadata": {},
     "output_type": "execute_result"
    }
   ],
   "source": [
    "NYC_df.describe()"
   ]
  },
  {
   "cell_type": "code",
   "execution_count": null,
   "metadata": {},
   "outputs": [],
   "source": []
  }
 ],
 "metadata": {
  "kernelspec": {
   "display_name": "Python 3",
   "language": "python",
   "name": "python3"
  },
  "language_info": {
   "codemirror_mode": {
    "name": "ipython",
    "version": 3
   },
   "file_extension": ".py",
   "mimetype": "text/x-python",
   "name": "python",
   "nbconvert_exporter": "python",
   "pygments_lexer": "ipython3",
   "version": "3.6.5"
  },
  "varInspector": {
   "cols": {
    "lenName": 16,
    "lenType": 16,
    "lenVar": 40
   },
   "kernels_config": {
    "python": {
     "delete_cmd_postfix": "",
     "delete_cmd_prefix": "del ",
     "library": "var_list.py",
     "varRefreshCmd": "print(var_dic_list())"
    },
    "r": {
     "delete_cmd_postfix": ") ",
     "delete_cmd_prefix": "rm(",
     "library": "var_list.r",
     "varRefreshCmd": "cat(var_dic_list()) "
    }
   },
   "types_to_exclude": [
    "module",
    "function",
    "builtin_function_or_method",
    "instance",
    "_Feature"
   ],
   "window_display": false
  }
 },
 "nbformat": 4,
 "nbformat_minor": 2
}
